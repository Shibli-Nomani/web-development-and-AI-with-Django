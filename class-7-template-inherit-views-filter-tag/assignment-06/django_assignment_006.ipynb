{
  "nbformat": 4,
  "nbformat_minor": 0,
  "metadata": {
    "colab": {
      "provenance": []
    },
    "kernelspec": {
      "name": "python3",
      "display_name": "Python 3"
    },
    "language_info": {
      "name": "python"
    }
  },
  "cells": [
    {
      "cell_type": "code",
      "execution_count": null,
      "metadata": {
        "id": "KBJaBr3NQH1D"
      },
      "outputs": [],
      "source": [
        "https://github.com/Shibli-Nomani/assignment05"
      ]
    },
    {
      "cell_type": "markdown",
      "source": [
        "<!DOCTYPE html>\n",
        "<html>\n",
        "   \n",
        "\n",
        "   <body>\n",
        "      <h1>Django-Project-Assignment-006</h1>\n",
        "      <p>\n",
        "         <a href=\"https://github.com/Shibli-Nomani/django-assignment-006\">Assigment-006</a> \n",
        "      </p>\n",
        "   </body>\n",
        "</html>"
      ],
      "metadata": {
        "id": "CIz3fJPEQPIJ"
      }
    }
  ]
}