{
  "nbformat": 4,
  "nbformat_minor": 0,
  "metadata": {
    "colab": {
      "provenance": []
    },
    "kernelspec": {
      "name": "python3",
      "display_name": "Python 3"
    },
    "language_info": {
      "name": "python"
    }
  },
  "cells": [
    {
      "cell_type": "markdown",
      "source": [
        "<p style=\"padding: 10px;\n",
        "              color:white;background-color: #5642C5;\">👉  \n",
        "           assingnment-02 using while loop(CRUD Progarm)\n",
        "</p>\n",
        "\n"
      ],
      "metadata": {
        "id": "lQ5gdjAEnejI"
      }
    },
    {
      "cell_type": "markdown",
      "source": [
        "`**while loop**`: Loop will perform contineous printing and it will not stop. There must be a condition in case of while loop (ex: if/elif/else) to stop the interation.\n",
        "\n",
        "We use **break** to stop the loop and we use **continue** to skip creatain condition. \n",
        "\n",
        "Here, we prepare a simple project for **CRUD** program using while loop, if, elif, else condition."
      ],
      "metadata": {
        "id": "gm43julPpRu9"
      }
    },
    {
      "cell_type": "code",
      "execution_count": 47,
      "metadata": {
        "colab": {
          "base_uri": "https://localhost:8080/"
        },
        "id": "DCID1ifB9VLL",
        "outputId": "a36b7d65-1257-4875-8901-9c940f6ffc42"
      },
      "outputs": [
        {
          "output_type": "stream",
          "name": "stdout",
          "text": [
            "Type your desire command create / read / update / add / delete /  quite: create\n",
            "here is your create_list:  ['John', 'Jeni', 'Andrew', 'Christina', 'Smith']\n",
            "Type your desire command create / read / update / add / delete /  quite: read\n",
            "your current create_list is :  ['John', 'Jeni', 'Andrew', 'Christina', 'Smith']\n",
            "Type your desire command create / read / update / add / delete /  quite: update\n",
            "your available index_range is:  4\n",
            "type your desired index for update: 5\n",
            "your provided index is out of range. please use within the index_range 4\n",
            "Type your desire command create / read / update / add / delete /  quite: update\n",
            "your available index_range is:  4\n",
            "type your desired index for update: 3\n",
            "type your desired new name for update: Adam\n",
            "see the create_list after update:  ['John', 'Jeni', 'Andrew', 'Adam', 'Smith']\n",
            "Type your desire command create / read / update / add / delete /  quite: add\n",
            "provide a name only\n",
            "input your desire name for adding: Lucy\n",
            "see create_list after adding:  ['John', 'Jeni', 'Andrew', 'Adam', 'Smith', 'Lucy']\n",
            "Type your desire command create / read / update / add / delete /  quite: dl\n",
            "Wrong Input!!\n",
            "Type your desire command create / read / update / add / delete /  quite: delete\n",
            "here is the current list:  ['John', 'Jeni', 'Andrew', 'Adam', 'Smith', 'Lucy']\n",
            "to remove, type your desired name from the list: Lucy\n",
            "your item has been dropped successfuly and here is your current create_list:  ['John', 'Jeni', 'Andrew', 'Adam', 'Smith']\n",
            "Type your desire command create / read / update / add / delete /  quite: quite\n",
            "Congratulation!! You are done. your system is shutting down the program....\n"
          ]
        }
      ],
      "source": [
        "#assignment\n",
        "#create list\n",
        "\n",
        "create_list = [\"John\", \"Jeni\", \"Andrew\", \"Christina\",\"Smith\"]\n",
        "\n",
        "while True:\n",
        "    put_command = input(\"Type your desire command create / read / update / add / delete /  quite: \")\n",
        "    if put_command == \"quite\":\n",
        "        print(\"Congratulation!! You are done. your system is shutting down the program....\")\n",
        "        break #stop the infinite loop once we type \"quite\"\n",
        "    #create list\n",
        "    elif put_command == \"create\":\n",
        "      print(\"here is your create_list: \", create_list)\n",
        "    #read only\n",
        "    elif put_command == \"read\":\n",
        "        print(\"your current create_list is : \", create_list)\n",
        "\n",
        "    #update only\n",
        "    elif put_command == \"update\":\n",
        "      index_range = len(create_list) - 1\n",
        "      print(\"your available index_range is: \", index_range)\n",
        "      desired_index = int(input(\"type your desired index for update: \"))\n",
        "      \n",
        "      if desired_index > index_range :\n",
        "        print(\"your provided index is out of range. please use within the index_range {}\"\n",
        "        .format(index_range))\n",
        "        \n",
        "      \n",
        "      else:\n",
        "        desired_name = input(\"type your desired new name for update: \")\n",
        "        create_list[desired_index] = desired_name\n",
        "        print(\"see the create_list after update: \", create_list)       \n",
        "\n",
        "    #add only\n",
        "    elif put_command == \"add\":\n",
        "\n",
        "      print(\"provide a name only\")\n",
        "      value = input(\"input your desire name for adding: \")\n",
        "      create_list.append(value)\n",
        "      print(\"see create_list after adding: \", create_list)\n",
        "\n",
        "   #delete only\n",
        "    elif put_command == \"delete\":\n",
        "      print(\"here is the current list: \", create_list)\n",
        "      name = input(\"to remove, type your desired name from the list: \")\n",
        "\n",
        "      if name not in (create_list):\n",
        "        print(\"incorrect input ! please provide correct name from the list\")\n",
        "        \n",
        "      else:\n",
        "        create_list.remove(value)\n",
        "        print(\"your item has been dropped successfuly and here is your current create_list: \", create_list)   \n",
        "\n",
        "      \n",
        "    else:\n",
        "        print(\"Wrong Input!!\")\n",
        "\n",
        "\n",
        "\n",
        "\n",
        "\n"
      ]
    }
  ]
}