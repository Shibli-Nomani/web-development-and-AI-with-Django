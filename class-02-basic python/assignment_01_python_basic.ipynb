{
  "nbformat": 4,
  "nbformat_minor": 0,
  "metadata": {
    "colab": {
      "provenance": []
    },
    "kernelspec": {
      "name": "python3",
      "display_name": "Python 3"
    },
    "language_info": {
      "name": "python"
    }
  },
  "cells": [
    {
      "cell_type": "markdown",
      "source": [
        "# Assignment"
      ],
      "metadata": {
        "id": "1fGJj9kVn7CV"
      }
    },
    {
      "cell_type": "code",
      "source": [
        "# Assignment\n",
        "\n",
        "# 1 Print your name.\n",
        "name = input(\"write your name\")\n",
        "print(\"My name is \" + name)\n",
        "# 2 Input your batch number using input() function.\n",
        "\n",
        "batch = input('input your batch number')\n",
        "print(\"My batch number is\" + batch)\n",
        "\n",
        "# 3 Create 5 different valid Variables and print.\n",
        "# type-01\n",
        "_power = 2\n",
        "print(\"variable name is _power\", _power)\n",
        "# type-02\n",
        "power = 3\n",
        "print(\"variable name is power\", power)\n",
        "# type-03\n",
        "power01 = 4\n",
        "print(\"variable name is power01\", power01)\n",
        "# type-04\n",
        "ints = 5\n",
        "print(\"variable name is lists\", ints)\n",
        "\n",
        "# type-05-Snake Case\n",
        "power_number = 6\n",
        "print(\"variable name with Snake Case format is power_number\", power_number)\n",
        "\n",
        "# 4 Create Pascal Case Variable.\n",
        "PowerNumber = 10\n",
        "print(\"variable name with Pascal Case format is PowerNumber\", PowerNumber)\n",
        "\n",
        "# 5 Assign a single value to Multiple variables with memory location.\n",
        "x = y = z = 10\n",
        "print(\"value of x, y, z are respectively\", x, y, z)\n",
        "print(\"Memory Allocation of x is\", id(x))\n",
        "print(\"Memory Allocation of y is\", id(y))\n",
        "print(\"Memory Allocation of z is\", id(z))\n",
        "\n",
        "# 6 Input float value using input().\n",
        "number = float(input('write a float number'))\n",
        "print(\"value of float is\", number)\n",
        "print(\"type: \", type(number))\n",
        "\n",
        "# 7 a = ‘Welcome to Django for web and Ai’ convert into upper case.\n",
        "a = \"Welcome to Django for web and Ai\"\n",
        "print(\"upper case of that sentence: \", a.upper())\n",
        "\n",
        "# 8 b = ‘    Python’ remove whitespace.\n",
        "# note: we use strip to remove whitespace before start of a sentence\n",
        "b = \"              Python\"\n",
        "print(\"remove whitespace using b.strip():\", b.strip())\n",
        "\n",
        "# 9 c = 60, d= 22 ‘Conversion int to float’.\n",
        "c = 60\n",
        "d = 22\n",
        "print(\"type of c:\", type(c))\n",
        "print(\"type of d:\", type(d))\n",
        "\n",
        "c = float(c)\n",
        "d = float(d)\n",
        "\n",
        "print(\"after conversion, type of c is {} and value is {}\".format(type(c), c))\n",
        "print(\"after conversion, type of d is {} and value is {}\".format(type(d), d))\n",
        "\n",
        "# 10 Create a dictionary & print your info.\n",
        "\n",
        "my_dict = {\"last_name\" : \"Nomani\",\n",
        "           \"first_name\" : \"Shibli\",\n",
        "           \"employment_status\" : \"employed\",\n",
        "           \"nationality\" : \"Bangladeshi\",\n",
        "           \"city\" : \"Dhaka\"}\n",
        "print(\"This is my info dictionary:\",\"\\n\", my_dict)\n"
      ],
      "metadata": {
        "colab": {
          "base_uri": "https://localhost:8080/"
        },
        "id": "7AFwlcqHnfXt",
        "outputId": "0960d2a4-b6a2-4b45-877f-075d16b8c20d"
      },
      "execution_count": 3,
      "outputs": [
        {
          "output_type": "stream",
          "name": "stdout",
          "text": [
            "write your name Shibli Nomani\n",
            "My name is  Shibli Nomani\n",
            "input your batch number Batch-02\n",
            "My batch number is Batch-02\n",
            "variable name is _power 2\n",
            "variable name is power 3\n",
            "variable name is power01 4\n",
            "variable name is lists 5\n",
            "variable name with Snake Case format is power_number 6\n",
            "variable name with Pascal Case format is PowerNumber 10\n",
            "value of x, y, z are respectively 10 10 10\n",
            "Memory Allocation of x is 139999080880720\n",
            "Memory Allocation of y is 139999080880720\n",
            "Memory Allocation of z is 139999080880720\n",
            "write a float number 9.765\n",
            "value of float is 9.765\n",
            "type:  <class 'float'>\n",
            "upper case of that sentence:  WELCOME TO DJANGO FOR WEB AND AI\n",
            "remove whitespace using b.strip(): Python\n",
            "type of c: <class 'int'>\n",
            "type of d: <class 'int'>\n",
            "after conversion, type of c is <class 'float'> and value is 60.0\n",
            "after conversion, type of d is <class 'float'> and value is 22.0\n",
            "This is my info dictionary: \n",
            " {'last_name': 'Nomani', 'first_name': 'Shibli', 'employment_status': 'employed', 'nationality': 'Bangladeshi', 'city': 'Dhaka'}\n"
          ]
        }
      ]
    }
  ]
}