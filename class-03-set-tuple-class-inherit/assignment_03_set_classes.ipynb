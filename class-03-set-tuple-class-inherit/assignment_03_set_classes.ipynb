{
  "nbformat": 4,
  "nbformat_minor": 0,
  "metadata": {
    "colab": {
      "provenance": []
    },
    "kernelspec": {
      "name": "python3",
      "display_name": "Python 3"
    },
    "language_info": {
      "name": "python"
    }
  },
  "cells": [
    {
      "cell_type": "markdown",
      "source": [
        "<h1 style=\"padding: 10px;\n",
        "              color:white;background-color: #5642C5;\"> \n",
        "           Assingnment-03\n",
        "</h1>"
      ],
      "metadata": {
        "id": "rtlEw1ZhFh5G"
      }
    },
    {
      "cell_type": "markdown",
      "source": [
        "<p style=\"padding: 10px;\n",
        "              color:white;background-color: #5642C5;\">👉  \n",
        "           1. A = { 55, 6, 8, 9, 11} , B = {44, 55, 89,54} apply set union.\n",
        "</p>"
      ],
      "metadata": {
        "id": "wkTchmcmFtLA"
      }
    },
    {
      "cell_type": "code",
      "execution_count": 4,
      "metadata": {
        "colab": {
          "base_uri": "https://localhost:8080/"
        },
        "id": "b_H6aNS1FRiu",
        "outputId": "f7f6e63c-bf25-46d7-9e8f-b2c82beac586"
      },
      "outputs": [
        {
          "output_type": "stream",
          "name": "stdout",
          "text": [
            "Set Union:  {6, 8, 9, 11, 44, 54, 55, 89}\n"
          ]
        }
      ],
      "source": [
        "A = { 55, 6, 8, 9, 11}\n",
        "B = {44, 55, 89, 54}\n",
        "\n",
        "print(\"Set Union: \", A|B) #represent using pipe \"|\""
      ]
    },
    {
      "cell_type": "markdown",
      "source": [
        "<p style=\"padding: 10px;\n",
        "              color:white;background-color: #5642C5;\">👉  \n",
        "           2. Which data type not allow duplicate item. Give an example.\n",
        "</p>"
      ],
      "metadata": {
        "id": "ZA762sT6GkO2"
      }
    },
    {
      "cell_type": "markdown",
      "source": [
        "<p style=\"padding: 10px;\n",
        "              color:white;background-color: #E67E22;\">Answer: \n",
        "            Set doesn't allow any duplicate item."
      ],
      "metadata": {
        "id": "fDvrLGLzGvLx"
      }
    },
    {
      "cell_type": "code",
      "source": [
        "#Example\n",
        "C = {2, 4, 55, 6, 7, 4, 9, 11, 55}\n",
        "\n",
        "print(\"Set: \", C)\n",
        "print(\"No duplicates once we run the set\")"
      ],
      "metadata": {
        "colab": {
          "base_uri": "https://localhost:8080/"
        },
        "id": "76F1s4IgGjdm",
        "outputId": "8d28aa7e-202a-41f1-c7db-5af78eecf6c4"
      },
      "execution_count": 6,
      "outputs": [
        {
          "output_type": "stream",
          "name": "stdout",
          "text": [
            "Set:  {2, 4, 55, 6, 7, 9, 11}\n",
            "No duplicates once we run the set\n"
          ]
        }
      ]
    },
    {
      "cell_type": "markdown",
      "source": [
        "<p style=\"padding: 10px;\n",
        "              color:white;background-color: #5642C5;\">👉  \n",
        "           3. B={‘Django’: 16, ‘Project’: 8, ‘Students’: 20} print keys.\n",
        "</p>"
      ],
      "metadata": {
        "id": "EChJYCaFH3br"
      }
    },
    {
      "cell_type": "code",
      "source": [
        "B={'Django': 16, 'Project': 8, 'Students': 20}\n",
        "\n",
        "print(\"Keys of dictionary B: \", B.keys())"
      ],
      "metadata": {
        "colab": {
          "base_uri": "https://localhost:8080/"
        },
        "id": "pPyTouCTIBq8",
        "outputId": "d3791dbc-e773-4f96-b8e2-2e9efa6f4cbc"
      },
      "execution_count": 8,
      "outputs": [
        {
          "output_type": "stream",
          "name": "stdout",
          "text": [
            "Keys of dictionary B:  dict_keys(['Django', 'Project', 'Students'])\n"
          ]
        }
      ]
    },
    {
      "cell_type": "markdown",
      "source": [
        "<p style=\"padding: 10px;\n",
        "              color:white;background-color: #5642C5;\">👉  \n",
        "           4. Create a function & call the function.\n",
        "</p>"
      ],
      "metadata": {
        "id": "iLzAuyrTIV9Q"
      }
    },
    {
      "cell_type": "code",
      "source": [
        "#Create Function\n",
        "def expense_details(Name, Salary, Rent, Food, Transport, Medicine ):\n",
        "  name = str(Name)\n",
        "  earning = float(Salary)\n",
        "  rent = float(Rent)\n",
        "  food = float(Food)\n",
        "  transport = float(Transport)\n",
        "  medicine = float(Medicine)\n",
        "  total = rent + food + transport + medicine\n",
        "  avg_transport_cost = transport/30\n",
        "  avg_food_cost = food/30\n",
        "  avg_medicine_cost = medicine/30\n",
        "  print(\"Name: \", name)\n",
        "  print(\"Total Expense: \", total)\n",
        "  print(\"Average Transport Cost Daily: \", avg_transport_cost)\n",
        "  print(\"Average Food Cost Daily: \", avg_food_cost)\n",
        "  print(\"Average Food Cost Daily: \", avg_medicine_cost)\n",
        "  print(\"Balance Remain After all cost: \", (earning-total))\n"
      ],
      "metadata": {
        "id": "Ke5iGzVLIfsu"
      },
      "execution_count": 27,
      "outputs": []
    },
    {
      "cell_type": "code",
      "source": [
        "#Call Function\n",
        "expense_details(\"John\", 50000, 20000, 10000, 4000, 5000)\n"
      ],
      "metadata": {
        "colab": {
          "base_uri": "https://localhost:8080/"
        },
        "id": "1a2AqyC-Ip_7",
        "outputId": "ba0642c5-6889-45f8-a75a-4faa12afdae2"
      },
      "execution_count": 28,
      "outputs": [
        {
          "output_type": "stream",
          "name": "stdout",
          "text": [
            "Name:  John\n",
            "Total Expense:  39000.0\n",
            "Average Transport Cost Daily:  133.33333333333334\n",
            "Average Food Cost Daily:  333.3333333333333\n",
            "Average Food Cost Daily:  166.66666666666666\n",
            "Balance Remain After all cost:  11000.0\n"
          ]
        }
      ]
    },
    {
      "cell_type": "markdown",
      "source": [
        "<p style=\"padding: 10px;\n",
        "              color:white;background-color: #5642C5;\">👉  \n",
        "           5. Create Class & Object.\n",
        "</p>"
      ],
      "metadata": {
        "id": "aG7qS_gxMXoj"
      }
    },
    {
      "cell_type": "markdown",
      "source": [
        "1. Class is a part of python Object Oriented Programming\n",
        "2. **class:** It's an Object Constructor. Name of any class starts with capital letter.\n",
        "3. **__init__:** intializes the attributes. and __init__ is automatically executed with every new classes. __init__(constructor) is a built-in/reserved function name in python. It creates space in memory and store the parameter details.\n",
        "4. **self:** self represents instance of the class to access methods and attribute. When we passes the self parameters from method to method, we get the access of all the attributes for different methods. It works in background once we creates any object.\n",
        "5. **method:** define function under the class is method.\n",
        "6. **arguments/parameters:** inside the () of a method, we write parameters/attributes\n",
        "7. **attribute:** variable includes with self is an attribute..\n",
        "\n"
      ],
      "metadata": {
        "id": "jCI8qnvvMrr9"
      }
    },
    {
      "cell_type": "code",
      "source": [
        "class Ship:\n",
        "  def __init__(self, name, size, capacity):\n",
        "    self.Name = name\n",
        "    self.Size = size\n",
        "    self.Capacity = capacity\n",
        "  def secondary(self):\n",
        "    print(\"Ship {} has a size of {} meters with capacity {} TEUs\".format(self.Name, self.Size, self.Capacity))\n"
      ],
      "metadata": {
        "id": "lN0qifPMPiuv"
      },
      "execution_count": 75,
      "outputs": []
    },
    {
      "cell_type": "code",
      "source": [
        "ship = Ship('Panamax', 366, 13000) #create object\n",
        "ship.secondary() #call secodary method by class\n",
        "print(\"note: here we can see how method to method works\")"
      ],
      "metadata": {
        "colab": {
          "base_uri": "https://localhost:8080/"
        },
        "id": "M_aCK6i_SzCy",
        "outputId": "6002a041-e7ac-4f75-f812-256af59b7c18"
      },
      "execution_count": 76,
      "outputs": [
        {
          "output_type": "stream",
          "name": "stdout",
          "text": [
            "Ship Panamax has a size of 366 meters with capacity 13000 TEUs\n",
            "note: here we can see how method to method works\n"
          ]
        }
      ]
    },
    {
      "cell_type": "markdown",
      "source": [
        "<h2>Alternatively</h2>"
      ],
      "metadata": {
        "id": "Bd3ATpF1Vsf6"
      }
    },
    {
      "cell_type": "code",
      "source": [
        "class Ship:\n",
        "  def primary(self, name, size, capacity):\n",
        "    self.Name = name\n",
        "    self.Size = size\n",
        "    self.Capacity = capacity\n",
        "  def secondary(self):\n",
        "    print(\"Ship {} has a size of {} meters with capacity {} TEUs\".format(self.Name, self.Size, self.Capacity))\n"
      ],
      "metadata": {
        "id": "pRrBwdH7Vyzv"
      },
      "execution_count": 48,
      "outputs": []
    },
    {
      "cell_type": "code",
      "source": [
        "ship = Ship() #create object\n",
        "ship.primary('Panamax', 366, 13000)\n",
        "ship.secondary() #call secodary method by class\n",
        "print(\"note: here we can see how method to method works\")"
      ],
      "metadata": {
        "colab": {
          "base_uri": "https://localhost:8080/"
        },
        "id": "12KaJ9ShV296",
        "outputId": "6037c509-c2ab-42e3-fcc5-c22cbaea803b"
      },
      "execution_count": 49,
      "outputs": [
        {
          "output_type": "stream",
          "name": "stdout",
          "text": [
            "Ship Panamax has a size of 366 meters with capacity 13000 TEUs\n",
            "note: here we can see how method to method works\n"
          ]
        }
      ]
    },
    {
      "cell_type": "markdown",
      "source": [
        "<p style=\"padding: 10px;\n",
        "              color:white;background-color: #5642C5;\">👉  \n",
        "           6. Give an example of Inheritance.\n",
        "</p>"
      ],
      "metadata": {
        "id": "uRIDKiJUV_sr"
      }
    },
    {
      "cell_type": "markdown",
      "source": [
        "<h2>Inheritance</h2>\n",
        "\n",
        "There will parent and child class. Child class will get all the attributes of parent class and also it's own class, then return the result once we have inherit the parent class into child class**[`class child(parent)`]**"
      ],
      "metadata": {
        "id": "Tr3wF7goeHN2"
      }
    },
    {
      "cell_type": "code",
      "source": [
        "#parent class\n",
        "class Car:\n",
        "  def __init__(self, brand, color, category, passenger):\n",
        "    self.Brand = str(brand)\n",
        "    self.Color = str(color)\n",
        "    self.Category =  str(category)\n",
        "    self.Passenger = int(passenger)\n",
        "\n",
        "  def description(self):\n",
        "\n",
        "    print(\"This {} car is {} color. And falls under the category {} with {} persons seating arrangements\"\n",
        "              .format(self.Brand, self.Color, self.Category, self.Passenger))\n",
        "\n",
        "#child class    \n",
        "class Bike(Car): #it includes the attributes of Car\n",
        "  def bike_details(self):\n",
        "    print(\"This {} bike is {} color. And falls under the category {} with {} persons seating arrangements.\"\n",
        "              .format(self.Brand, self.Color, self.Category, self.Passenger))\n",
        "\n",
        " \n",
        "\n",
        "  \n"
      ],
      "metadata": {
        "id": "dphfGmPxWJoi"
      },
      "execution_count": 132,
      "outputs": []
    },
    {
      "cell_type": "code",
      "source": [
        "#Parent Class\n",
        "car = Car(\"BMW\", \"Blue\", \"SUV\", 7) #object name of class Car\n",
        "car.description() #call methods"
      ],
      "metadata": {
        "colab": {
          "base_uri": "https://localhost:8080/"
        },
        "id": "TeT8st25gx8a",
        "outputId": "8448f273-dc6f-43e3-e6e3-c9190f76d8a6"
      },
      "execution_count": 133,
      "outputs": [
        {
          "output_type": "stream",
          "name": "stdout",
          "text": [
            "This BMW car is Blue color. And falls under the category SUV with 7 persons seating arrangements\n"
          ]
        }
      ]
    },
    {
      "cell_type": "code",
      "source": [
        "#Child Class\n",
        "bike = Bike(\"Honda\", \"Red\", \"Racing\", 2) #including the attributes of Class A\n",
        "bike.bike_details() #call methods\n"
      ],
      "metadata": {
        "colab": {
          "base_uri": "https://localhost:8080/"
        },
        "id": "LB-12FiCkwgI",
        "outputId": "60cd88af-9702-485a-9250-5c3b984a7a4e"
      },
      "execution_count": 134,
      "outputs": [
        {
          "output_type": "stream",
          "name": "stdout",
          "text": [
            "This Honda bike is Red color. And falls under the category Racing with 2 persons seating arrangements.\n"
          ]
        }
      ]
    }
  ]
}